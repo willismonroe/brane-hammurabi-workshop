{
 "cells": [
  {
   "cell_type": "code",
   "execution_count": 1,
   "metadata": {},
   "outputs": [],
   "source": [
    "import random"
   ]
  },
  {
   "cell_type": "code",
   "execution_count": 2,
   "metadata": {},
   "outputs": [],
   "source": [
    "with open('lh.atf') as f:\n",
    "    lines = f.read().split('\\n')\n",
    "prologue_start = 0\n",
    "prologue_end = lines.index('@law 1')\n",
    "epilogue_start = lines.index('@epilogue')\n",
    "epilogue_end = -1\n",
    "prologue = lines[prologue_start:prologue_end]\n",
    "epilogue = lines[epilogue_start:epilogue_end]"
   ]
  },
  {
   "cell_type": "code",
   "execution_count": 3,
   "metadata": {},
   "outputs": [
    {
     "name": "stdout",
     "output_type": "stream",
     "text": [
      "10443\n"
     ]
    }
   ],
   "source": [
    "normed_laws = ' '.join([\n",
    "    line.split(\":\")[1].strip() \n",
    "    for line in lines[prologue_end:epilogue_start] \n",
    "    if line.startswith('#tr.en')\n",
    "])\n",
    "print(len(normed_laws.split()))"
   ]
  },
  {
   "cell_type": "code",
   "execution_count": 4,
   "metadata": {},
   "outputs": [],
   "source": [
    "markov = {}\n",
    "for i, word in enumerate(normed_laws.split()):\n",
    "    if word in markov.keys():\n",
    "        if i+1 < len(normed_laws.split()):\n",
    "            markov[word].append(normed_laws.split()[i+1])\n",
    "    else:\n",
    "        if i+1 < len(normed_laws.split()):\n",
    "            markov[word] = [normed_laws.split()[i+1]]"
   ]
  },
  {
   "cell_type": "code",
   "execution_count": 5,
   "metadata": {},
   "outputs": [],
   "source": [
    "def make_law():\n",
    "    new_law = ['If']\n",
    "    for i in range(200):\n",
    "        new_law.append(random.choice(markov[new_law[i]]))\n",
    "        if new_law[-1][-1] == '.': break\n",
    "    return new_law"
   ]
  },
  {
   "cell_type": "code",
   "execution_count": 6,
   "metadata": {},
   "outputs": [
    {
     "name": "stdout",
     "output_type": "stream",
     "text": [
      "If his father-in-law, the šugītu with the burden for safekeeping gave, and the cries of ox for the barley that one who a female-slave of their buyer the silver shall give.\n"
     ]
    }
   ],
   "source": [
    "print(' '.join(make_law()))"
   ]
  },
  {
   "cell_type": "code",
   "execution_count": 7,
   "metadata": {},
   "outputs": [
    {
     "name": "stdout",
     "output_type": "stream",
     "text": [
      "If a man silver to the field 20 gur of the sons only.\n"
     ]
    }
   ],
   "source": [
    "print(' '.join(make_law()))"
   ]
  },
  {
   "cell_type": "code",
   "execution_count": 8,
   "metadata": {},
   "outputs": [],
   "source": [
    "two_markov = {}\n",
    "for i, word in enumerate(normed_laws.split()):\n",
    "    if i+1 < len(normed_laws.split()):\n",
    "        new_link = [normed_laws.split()[i-1], normed_laws.split()[i+1]]\n",
    "        if word in two_markov.keys():\n",
    "                two_markov[word].append(new_link)\n",
    "        else:\n",
    "                two_markov[word] = [new_link]"
   ]
  },
  {
   "cell_type": "code",
   "execution_count": 14,
   "metadata": {},
   "outputs": [],
   "source": [
    "import json\n",
    "with open('two_markov.json', 'w') as outfile:\n",
    "    json.dump(two_markov, outfile)"
   ]
  },
  {
   "cell_type": "code",
   "execution_count": 15,
   "metadata": {},
   "outputs": [],
   "source": [
    "def make_two_law():\n",
    "    new_law = ['If', 'a']\n",
    "    prev = new_law[0]\n",
    "    for i in range(1,200):\n",
    "        try:\n",
    "            new_law.append(random.choice([choice[1] for choice in two_markov[new_law[i]] if choice[0] == prev]))\n",
    "        except:\n",
    "            exceptions += 1\n",
    "            new_law.append(random.choice(two_markov[new_law[i]])[1])\n",
    "        if new_law[-1][-1] == '.': break\n",
    "        prev = new_law[-2]\n",
    "    return new_law"
   ]
  },
  {
   "cell_type": "code",
   "execution_count": 18,
   "metadata": {},
   "outputs": [
    {
     "name": "stdout",
     "output_type": "stream",
     "text": [
      "If a man rents a boat of an awīlum her dowry and the man’s eye has blinded, silver of half of its value he shall give If a slave woman to (her) fate has gone, when the brothers (the estate) divide.\n"
     ]
    }
   ],
   "source": [
    "print(' '.join(make_two_law()))"
   ]
  },
  {
   "cell_type": "code",
   "execution_count": null,
   "metadata": {},
   "outputs": [],
   "source": []
  },
  {
   "cell_type": "code",
   "execution_count": null,
   "metadata": {},
   "outputs": [],
   "source": []
  },
  {
   "cell_type": "code",
   "execution_count": null,
   "metadata": {},
   "outputs": [],
   "source": []
  }
 ],
 "metadata": {
  "kernelspec": {
   "display_name": "Python 3",
   "language": "python",
   "name": "python3"
  },
  "language_info": {
   "codemirror_mode": {
    "name": "ipython",
    "version": 3
   },
   "file_extension": ".py",
   "mimetype": "text/x-python",
   "name": "python",
   "nbconvert_exporter": "python",
   "pygments_lexer": "ipython3",
   "version": "3.8.5"
  }
 },
 "nbformat": 4,
 "nbformat_minor": 4
}
