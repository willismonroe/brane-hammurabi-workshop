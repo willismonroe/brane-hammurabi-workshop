{
 "cells": [
  {
   "cell_type": "code",
   "execution_count": 94,
   "metadata": {},
   "outputs": [],
   "source": [
    "import re\n",
    "from tabulate import tabulate\n",
    "from matplotlib import pyplot as plt"
   ]
  },
  {
   "cell_type": "code",
   "execution_count": 95,
   "metadata": {},
   "outputs": [],
   "source": [
    "with open('lh.atf') as f:\n",
    "    lines = f.read().split('\\n')\n",
    "laws = []\n",
    "law = ''\n",
    "for line in lines[lines.index(\"@law 1\"):lines.index('@epilogue')]:\n",
    "    if line.startswith('@law'):\n",
    "        if len(law) > 0:\n",
    "            laws.append(law.rstrip())\n",
    "            law = ''\n",
    "    # transliteration\n",
    "#     if re.search(\"\\d+'?\\.\", line):\n",
    "#         law += re.split(\"\\d'?\\.\", line)[1].lstrip()\n",
    "    # normalization\n",
    "#     if line.startswith('#tr.ts'):\n",
    "#         law += line.split(\":\")[1].strip() + ' '\n",
    "    if line.startswith('#tr.en'):\n",
    "        law += line.split(\":\")[1].strip() + ' '\n",
    "laws.append(law)    \n"
   ]
  },
  {
   "cell_type": "code",
   "execution_count": 96,
   "metadata": {},
   "outputs": [
    {
     "data": {
      "text/plain": [
       "['If a man a man accused, and murder against him threw, and has not proven it, his accuser shall be killed.',\n",
       " 'If a man sorcery against a man threw, and has not proven it, against whom sorcery was thrown to Id shall go, into Id he shall jump; if Id has overcome him, his accuser his household shall carry away; if that man Id has cleansed him, and he has emerged whole, who against him sorcery threw shall be killed; who into Id jumped the household of his accuser shall carry away.']"
      ]
     },
     "execution_count": 96,
     "metadata": {},
     "output_type": "execute_result"
    }
   ],
   "source": [
    "laws[:2]"
   ]
  },
  {
   "cell_type": "code",
   "execution_count": 97,
   "metadata": {},
   "outputs": [],
   "source": [
    "from sklearn.feature_extraction.text import TfidfVectorizer"
   ]
  },
  {
   "cell_type": "code",
   "execution_count": 98,
   "metadata": {},
   "outputs": [],
   "source": [
    "STOP_WORDS = ['ina', 'ša', 'ana', 'u', 'lā', 'šū', 'kīma', 'šumma']\n",
    "vec = TfidfVectorizer(stop_words='english')\n",
    "vec.fit(laws)\n",
    "features = vec.transform(laws)"
   ]
  },
  {
   "cell_type": "code",
   "execution_count": 127,
   "metadata": {},
   "outputs": [
    {
     "data": {
      "text/plain": [
       "KMeans(n_clusters=5)"
      ]
     },
     "execution_count": 127,
     "metadata": {},
     "output_type": "execute_result"
    }
   ],
   "source": [
    "from sklearn.cluster import MiniBatchKMeans, KMeans\n",
    "clust = KMeans(init='k-means++', n_clusters=5, n_init=10)\n",
    "clust.fit(features)"
   ]
  },
  {
   "cell_type": "code",
   "execution_count": 128,
   "metadata": {},
   "outputs": [],
   "source": [
    "yhat = clust.predict(features)"
   ]
  },
  {
   "cell_type": "code",
   "execution_count": 129,
   "metadata": {},
   "outputs": [
    {
     "data": {
      "text/plain": [
       "array([2, 2, 2, 2, 2, 2, 4, 2, 2, 2, 2, 2, 2, 2, 4, 4, 4, 4, 4, 4, 1, 2,\n",
       "       2, 2, 2, 3, 3, 3, 3, 3, 3, 3, 2, 2, 2, 3, 3, 3, 3, 3, 3, 3, 3, 3,\n",
       "       3, 3, 3, 3, 3, 3, 2, 0, 0, 0, 0, 0, 3, 3, 2, 3, 3, 3, 3, 3, 3, 2,\n",
       "       2, 2, 2, 2, 2, 2, 0, 2, 1, 0, 2, 0, 2, 2, 2, 3, 2, 4, 0, 0, 2, 2,\n",
       "       2, 2, 2, 1, 1, 1, 1, 1, 1, 1, 1, 1, 1, 1, 1, 2, 2, 1, 1, 1, 1, 1,\n",
       "       4, 2, 1, 1, 1, 1, 1, 1, 2, 1, 1, 1, 1, 1, 1, 1, 1, 1, 1, 1, 1, 1,\n",
       "       1, 1, 1, 1, 1, 1, 1, 4, 4, 1, 1, 1, 1, 1, 1, 1, 1, 1, 1, 1, 1, 1,\n",
       "       1, 1, 1, 1, 1, 1, 2, 2, 2, 4, 2, 2, 2, 2, 4, 4, 2, 2, 2, 4, 1, 4,\n",
       "       2, 4, 4, 4, 4, 4, 4, 4, 4, 4, 4, 4, 2, 2, 4, 4, 2, 2, 2, 4, 2, 2,\n",
       "       2, 2, 2, 0, 2, 0, 2, 2, 0, 2, 2, 2, 2, 2, 2, 2, 2, 4, 3, 0, 0, 3,\n",
       "       0, 0, 2, 2, 0, 2, 2, 2, 2, 2, 2, 0, 0, 0, 0, 0, 2, 2, 2, 2, 0, 4,\n",
       "       4, 4, 4, 4], dtype=int32)"
      ]
     },
     "execution_count": 129,
     "metadata": {},
     "output_type": "execute_result"
    }
   ],
   "source": [
    "clust.labels_"
   ]
  },
  {
   "cell_type": "code",
   "execution_count": 102,
   "metadata": {},
   "outputs": [
    {
     "data": {
      "text/plain": [
       "array([5, 5, 5, 2, 2, 5, 1, 1, 5, 5, 5, 5, 5, 4, 1, 1, 1, 5, 5, 5, 5, 5,\n",
       "       5, 3, 4, 1, 1, 1, 6, 1, 1, 1, 1, 1, 5, 1, 1, 1, 6, 6, 1, 6, 6, 6,\n",
       "       1, 6, 6, 0, 0, 0, 0, 0, 0, 0, 0, 0, 6, 6, 3, 6, 6, 6, 6, 6, 6, 5,\n",
       "       5, 5, 0, 2, 5, 5, 0, 5, 5, 0, 5, 0, 3, 4, 4, 6, 2, 2, 0, 0, 5, 5,\n",
       "       5, 5, 5, 5, 2, 4, 4, 2, 2, 2, 2, 2, 2, 2, 2, 3, 3, 2, 2, 5, 2, 2,\n",
       "       2, 2, 2, 2, 2, 2, 4, 5, 5, 5, 5, 2, 2, 5, 5, 5, 2, 2, 2, 2, 2, 2,\n",
       "       2, 2, 2, 2, 2, 2, 2, 4, 4, 2, 2, 2, 2, 2, 2, 2, 2, 2, 4, 4, 4, 4,\n",
       "       2, 2, 2, 4, 4, 5, 4, 4, 3, 4, 4, 3, 7, 4, 3, 4, 5, 3, 3, 3, 4, 3,\n",
       "       3, 3, 3, 5, 4, 4, 5, 7, 3, 4, 4, 4, 7, 7, 5, 5, 4, 4, 4, 4, 5, 5,\n",
       "       4, 5, 5, 5, 5, 0, 5, 3, 7, 7, 7, 7, 7, 7, 7, 5, 4, 3, 7, 7, 6, 5,\n",
       "       0, 0, 5, 5, 0, 7, 7, 7, 7, 5, 5, 7, 0, 0, 0, 0, 0, 3, 0, 0, 0, 5,\n",
       "       5, 2, 1, 2], dtype=int32)"
      ]
     },
     "execution_count": 102,
     "metadata": {},
     "output_type": "execute_result"
    }
   ],
   "source": [
    "translit_labels"
   ]
  },
  {
   "cell_type": "code",
   "execution_count": 123,
   "metadata": {},
   "outputs": [
    {
     "data": {
      "text/plain": [
       "array([-1, -1, -1, -1, -1, -1, -1, -1, -1, -1, -1, -1, -1, -1, -1, -1, -1,\n",
       "       -1, -1, -1, -1, -1, -1, -1, -1, -1, -1, -1, -1, -1, -1, -1, -1, -1,\n",
       "       -1, -1, -1, -1, -1, -1, -1, -1, -1, -1, -1, -1, -1, -1, -1, -1, -1,\n",
       "       -1, -1, -1, -1, -1, -1, -1, -1, -1, -1, -1, -1, -1, -1, -1, -1, -1,\n",
       "       -1, -1, -1, -1, -1, -1, -1, -1, -1, -1, -1, -1, -1, -1, -1, -1, -1,\n",
       "       -1, -1, -1, -1, -1, -1, -1, -1, -1, -1, -1, -1, -1, -1, -1, -1, -1,\n",
       "       -1, -1, -1, -1, -1, -1, -1, -1, -1, -1, -1, -1, -1, -1, -1, -1, -1,\n",
       "       -1, -1, -1, -1, -1, -1, -1, -1, -1, -1, -1, -1, -1, -1, -1, -1, -1,\n",
       "       -1, -1, -1, -1, -1, -1, -1, -1, -1, -1, -1, -1, -1, -1, -1, -1, -1,\n",
       "       -1, -1, -1, -1, -1, -1, -1, -1, -1, -1, -1, -1, -1, -1, -1, -1, -1,\n",
       "       -1, -1, -1, -1, -1, -1, -1, -1, -1, -1, -1,  0, -1, -1, -1, -1, -1,\n",
       "        0, -1, -1, -1, -1, -1, -1, -1, -1, -1, -1, -1, -1, -1, -1, -1, -1,\n",
       "       -1, -1, -1, -1, -1, -1, -1, -1, -1, -1, -1, -1, -1, -1, -1, -1, -1,\n",
       "       -1, -1, -1, -1, -1, -1, -1, -1, -1, -1, -1, -1, -1, -1, -1, -1, -1,\n",
       "       -1, -1, -1, -1, -1, -1, -1, -1])"
      ]
     },
     "execution_count": 123,
     "metadata": {},
     "output_type": "execute_result"
    }
   ],
   "source": [
    "from sklearn.cluster import DBSCAN\n",
    "clust = DBSCAN(min_samples=2).fit_predict(features)\n",
    "clust"
   ]
  },
  {
   "cell_type": "code",
   "execution_count": null,
   "metadata": {},
   "outputs": [],
   "source": []
  },
  {
   "cell_type": "code",
   "execution_count": null,
   "metadata": {},
   "outputs": [],
   "source": []
  }
 ],
 "metadata": {
  "kernelspec": {
   "display_name": "Python 3",
   "language": "python",
   "name": "python3"
  },
  "language_info": {
   "codemirror_mode": {
    "name": "ipython",
    "version": 3
   },
   "file_extension": ".py",
   "mimetype": "text/x-python",
   "name": "python",
   "nbconvert_exporter": "python",
   "pygments_lexer": "ipython3",
   "version": "3.8.5"
  }
 },
 "nbformat": 4,
 "nbformat_minor": 4
}
