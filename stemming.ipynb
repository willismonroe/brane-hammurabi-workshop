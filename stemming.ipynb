{
 "cells": [
  {
   "cell_type": "code",
   "execution_count": 2,
   "metadata": {},
   "outputs": [],
   "source": [
    "# imports\n",
    "import re"
   ]
  },
  {
   "cell_type": "code",
   "execution_count": 3,
   "metadata": {},
   "outputs": [],
   "source": [
    "with open('oracc_ribo.vrt') as f:\n",
    "    lines = [line.split('\\t') for line in f.read().split('\\n') if len(line) > 0 and line[0] != '<']\n",
    "with open('oracc_rinap.vrt') as f:\n",
    "    lines += [line.split('\\t') for line in f.read().split('\\n') if len(line) > 0 and line[0] != '<']\n",
    "with open('oracc_cams.vrt') as f:\n",
    "    lines += [line.split('\\t') for line in f.read().split('\\n') if len(line) > 0 and line[0] != '<']"
   ]
  },
  {
   "cell_type": "code",
   "execution_count": 7,
   "metadata": {},
   "outputs": [
    {
     "data": {
      "text/plain": [
       "'i-ta-mu-u ītamû awû speak V speak V http://oracc.org/ribo/babylon2/Q006246.9 akk i-ta-mu-u i_tamû awû 16'"
      ]
     },
     "execution_count": 7,
     "metadata": {},
     "output_type": "execute_result"
    }
   ],
   "source": [
    "' '.join(lines[560])"
   ]
  },
  {
   "cell_type": "code",
   "execution_count": 291,
   "metadata": {},
   "outputs": [],
   "source": [
    "stemmer = {}\n",
    "for line in lines:\n",
    "    if len(line) > 0 and line[2] != '_':\n",
    "        entry = f\"{line[2].lower()}/{line[3].lower()}\"\n",
    "        translit = line[0]\n",
    "        norm = line[1]\n",
    "        if entry in stemmer.keys():\n",
    "            if translit not in stemmer[entry]['translit']:\n",
    "                stemmer[entry]['translit'].append(translit.lower())\n",
    "            if norm not in stemmer[entry]['norm']:\n",
    "                stemmer[entry]['norm'].append(norm.lower())\n",
    "        else:\n",
    "            stemmer[entry] = {\n",
    "                'translit': [translit.lower()],\n",
    "                'norm': [norm.lower()]\n",
    "            }"
   ]
  },
  {
   "cell_type": "code",
   "execution_count": 292,
   "metadata": {},
   "outputs": [],
   "source": [
    "with open('lh.atf') as f:\n",
    "    lines = f.read().split('\\n')\n",
    "prologue_start = 0\n",
    "prologue_end = lines.index('@law 1')\n",
    "epilogue_start = lines.index('@epilogue')\n",
    "epilogue_end = -1\n",
    "prologue = lines[prologue_start:prologue_end]\n",
    "epilogue = lines[epilogue_start:epilogue_end]"
   ]
  },
  {
   "cell_type": "code",
   "execution_count": 369,
   "metadata": {},
   "outputs": [
    {
     "name": "stdout",
     "output_type": "stream",
     "text": [
      "īnu anum ṣīrum šar anunnakī enlil bēl šamê u erṣetim\n",
      "1397 words\n",
      "szu-da-szu\n",
      "1394 words\n"
     ]
    }
   ],
   "source": [
    "normed_words = ' '.join([line.split(\":\")[1].strip().lower().replace('ḫ','h').replace('’', 'ʾ') for line in prologue+epilogue if line.startswith('#tr.ts')])\n",
    "print(normed_words[:52])\n",
    "print(len(normed_words.split()), 'words')\n",
    "translit_words = ' '.join([re.split(\"\\d'?\\.\", line)[1].lstrip() for line in prologue+epilogue if re.search(\"\\d+'?\\.\", line)])\n",
    "print(translit_words[-10:])\n",
    "print(len(translit_words.split()), 'words')\n"
   ]
  },
  {
   "cell_type": "code",
   "execution_count": 370,
   "metadata": {},
   "outputs": [],
   "source": [
    "def get_stem_from_norm(norm_word):\n",
    "    stem = None\n",
    "    for key in stemmer.keys():\n",
    "        if norm_word in stemmer[key]['norm']:\n",
    "            stem = key\n",
    "            break\n",
    "    if stem == None and norm_word[-1] == 'm':\n",
    "        for key in stemmer.keys():\n",
    "            if norm_word[:-1] in stemmer[key]['norm']:\n",
    "                stem = key\n",
    "                break\n",
    "    return stem\n",
    "    \n",
    "def get_stem_from_translit(translit_word):\n",
    "    for stem in stemmer.keys():\n",
    "        if translit_word in stemmer[stem]['translit']:\n",
    "            return stem\n",
    "            break"
   ]
  },
  {
   "cell_type": "code",
   "execution_count": 371,
   "metadata": {},
   "outputs": [
    {
     "name": "stdout",
     "output_type": "stream",
     "text": [
      "%2.11\n"
     ]
    }
   ],
   "source": [
    "none_count = 0\n",
    "for word in normed_words.split():\n",
    "    if get_stem_from_norm(word) == None:\n",
    "        none_count += 1\n",
    "print(f\"%{round(none_count/len(normed_words)*100, 2)}\")"
   ]
  },
  {
   "cell_type": "code",
   "execution_count": 387,
   "metadata": {},
   "outputs": [],
   "source": [
    "# add custom entries to stemmer\n",
    "stemmer['adab/adab'] = {'norm': ['adab']} # NEW\n",
    "stemmer['diānu/judge']['norm'].append('adīnu')\n",
    "stemmer['ammu/people'] = {'norm': ['ammi']} # NEW\n",
    "stemmer['anunnaki/anunnaki']['norm'].append('anunnakī')\n",
    "stemmer['parāsu/cut (off)']['norm'].append('aprusu')\n",
    "stemmer['ašarēdu/first and foremost']['norm'].append('ašared')\n",
    "stemmer['ašāru/muster']['norm'].append('āšer')\n",
    "stemmer['šaṭāru/write']['norm'].append('ašṭuru')\n",
    "stemmer['awātu/word']['norm'].append('awat')\n",
    "stemmer['awātu/word']['norm'].append('awatam')\n",
    "stemmer['awātu/word']['norm'].append('awât')\n",
    "stemmer['awātu/word']['norm'].append('awâtiya')\n",
    "stemmer['awātu/word']['norm'].append('awâtūa')\n",
    "stemmer['ai/not']['norm'].append('ay')\n",
    "stemmer['babili/babylon']['norm'].append('bābilam')\n",
    "stemmer['babili/babylon']['norm'].append('bābilim')\n",
    "stemmer['borsippa/borsippa']['norm'].append('barsippa')\n",
    "stemmer['binītu/creation']['norm'].append('biniātišu')\n",
    "stemmer['dāru/era']['norm'].append('dārium')\n",
    "stemmer['diānu/judge']['norm'].append('diānim')\n",
    "stemmer['dīnu/legal decision']['norm'].append('dīnāt')\n",
    "stemmer['dīnu/legal decision']['norm'].append('dīnšina')\n",
    "stemmer['emeteursaga/emeteursaga']['norm'].append('e-mete-ursag')\n",
    "stemmer['e’abzu/e-abzu'] = {'norm': ['eʾabzu']} # NEW\n",
    "stemmer['egalmah/egalmah']['norm'].append('egalmah')\n",
    "stemmer['egû/be(come) lazy']['norm'].append('ēgu')\n",
    "stemmer['emesmes/emesmes'] = {'norm': ['emesmes']} # NEW\n",
    "stemmer['emqu/wise']['norm'].append('emqum')\n",
    "stemmer['enšu/weak']['norm'].append('enšam')\n",
    "stemmer['eršu/wise']['norm'].append('erištum')\n",
    "stemmer['arratu/curse']['norm'].append('errētim')\n",
    "stemmer['esagil/esagil']['norm'].append('esagila')\n",
    "stemmer['šeʾû/seek']['norm'].append('ešteʾīšināšim')\n",
    "stemmer['eudgalgal/eudgalgal'] = {'norm': ['eudgalgal']} # NEW\n",
    "stemmer['gāmilu/merciful']['norm'].append('gāmil')\n",
    "stemmer['gegunnû/raised temple']['norm'].append('gigunē')\n",
    "stemmer['girsu/girsu'] = {'norm': ['girsîm']} # NEW\n",
    "stemmer['hammurapi/hammurapi'] = {'norm': ['hammurapi']} # NEW\n",
    "stemmer['hammurapi/hammurapi']['norm'].append('hammurapimi')\n",
    "stemmer['hiṣbu/luxuriance']['norm'].append('hiṣbim')\n",
    "stemmer['halāqu/be(come) lost']['norm'].append('hulluqim')\n",
    "stemmer['hursagkalama/hursagkalama']['norm'].append('hursag-kalamma')\n",
    "stemmer['hušahhu/need']['norm'].append('hušahhim')\n",
    "stemmer['nabû/called']['norm'].append('ibbiʾu')\n",
    "stemmer['banû/create']['norm'].append('ibniušu')\n",
    "stemmer['igigallu/wisdom']['norm'].append('igigallim')\n",
    "stemmer['igigi/igigi']['norm'].append('igigī')\n",
    "stemmer['ellilūtu/power of enlil']['norm'].append('illilūt')\n",
    "stemmer['inūma/when']['norm'].append('īnu')\n",
    "stemmer['inūmīšu/in those days']['norm'].append('inūmišu')\n",
    "stemmer['qâlu/pay attention']['norm'].append('iqūlma')\n",
    "stemmer['isin'] = {'norm': ['isin']} # NEW\n",
    "stemmer['kadru/rearing up']['norm'].append('kadrum')\n",
    "stemmer['karāšu/catastrophe']['norm'].append('karašîm')\n",
    "stemmer['keš/keš'] = {'norm': ['keš']} # NEW\n",
    "stemmer['kī/like']['norm'].append('kî')\n",
    "stemmer['kute/cutha']['norm'].append('kutî')\n",
    "stemmer['lā/not']['norm'].append('la')\n",
    "stemmer['lagaš/lagaš'] = {'norm': ['lagaš']} # NEW\n",
    "stemmer['lamassu/(female) tutelary deity']['norm'].append('lamassiya')\n",
    "stemmer['lamassu/(female) tutelary deity']['norm'].append('lamassīšu')\n",
    "stemmer['lēʾû/powerful']['norm'].append('lēʾûtī')\n",
    "stemmer['diānu/judge']['norm'].append('lidīn')\n",
    "stemmer['liplippu/scion'] = {'norm': ['liplippim']}  # NEW\n",
    "stemmer['arāru/curse']['norm'].append('līrur')\n",
    "stemmer['šebēru/break']['norm'].append('lišbir')\n",
    "stemmer['šakānu/put']['norm'].append('liškunšum')\n",
    "stemmer['târu/turn']['norm'].append('līṭeršu')\n",
    "stemmer['târu/turn']['norm'].append('līṭeršuma')\n",
    "stemmer['lū/either']['norm'].append('lu')\n",
    "stemmer['mākālû/meal']['norm'].append('mākalī')\n",
    "stemmer['malgium/malgium'] = {'norm': ['malgium']} # NEW\n",
    "stemmer['mama/mama'] = {'norm': ['mama']} # NEW\n",
    "stemmer['maškan-šāpir/maškan-šāpir'] = {'norm': ['maškan-šāpir']} # NEW\n",
    "stemmer['melemmu/fearsome radiance']['norm'].append('melimmī')\n",
    "stemmer['mari/mari'] = {'norm': ['mera']} # NEW\n",
    "stemmer['mērešu/cultivated land']['norm'].append('mēreštim')\n",
    "stemmer['mišaru/justice']['norm'].append('mīšaram')\n",
    "stemmer['mūdû/knower']['norm'].append('mudē')\n",
    "stemmer['dešû/sprout']['norm'].append('mudeššī')\n",
    "stemmer['gamāru/bring to conclusion']['norm'].append('mugarrin')\n",
    "stemmer['hadû/be joyful']['norm'].append('muhaddi')\n",
    "stemmer['kamāru/pile up']['norm'].append('mukammer')\n",
    "stemmer['nakāpu/push']['norm'].append('munakkip')\n",
    "stemmer['nawāru/be(come) bright']['norm'].append('munawwer')\n",
    "stemmer['nâhu/rest']['norm'].append('munēh')\n",
    "stemmer['naparkû/cease']['norm'].append('mupparkûm')\n",
    "stemmer['riāšu/rejoice']['norm'].append('murīš')\n",
    "stemmer['eṣēru/draw']['norm'].append('muṣīr')\n",
    "stemmer['labāšu/clothe oneself']['norm'].append('mušalbiš')\n",
    "stemmer['mušaddilu/one who expands something']['norm'].append('mušaddil')\n",
    "stemmer['rabû/be(come) big']['norm'].append('mušarbi')\n",
    "stemmer['rabû/be(come) big']['norm'].append('mušarbû')\n",
    "stemmer['rašādu/found']['norm'].append('mušaršidu')\n",
    "stemmer['watāru/be(come) outsize']['norm'].append('mušāter')\n",
    "stemmer['wapû/be(come) visible']['norm'].append('mušēpī')\n",
    "stemmer['šapû/be(come) silent']['norm'].append('mušeppi')\n",
    "stemmer['wāṣû/going out']['norm'].append('mušēṣi')\n",
    "stemmer['šaqû/give to drink']['norm'].append('mušešqi')\n",
    "stemmer['pazāru/hide oneself']['norm'].append('mušpazzir')\n",
    "stemmer['šakānu/put']['norm'].append('muštakkin')\n",
    "stemmer['sahāru/go around']['norm'].append('muštashir')\n",
    "stemmer['emēqu/be(come) wise']['norm'].append('muštēmiqum')\n",
    "stemmer['ṣubbû/observe']['norm'].append('mušteṣbî')\n",
    "stemmer['šemû/hear']['norm'].append('muštešmi')\n",
    "stemmer['ešēru/be/go well']['norm'].append('mušūšer')\n",
    "stemmer['tamāhu/seize']['norm'].append('mutammeh')\n",
    "stemmer['târu/return']['norm'].append('mutêr')\n",
    "stemmer['nābiʾu/plunderer']['norm'].append('nābihī')\n",
    "stemmer['nakru/enemy']['norm'].append('nakirī')\n",
    "stemmer['nakru/enemy']['norm'].append('nakirī;')\n",
    "stemmer['napištu/life']['norm'].append('napšatam')\n",
    "stemmer['narû/stele']['norm'].append('narî')\n",
    "stemmer['narû/stele']['norm'].append('narîya')\n",
    "stemmer['nasqu/chosen']['norm'].append('nasqā')\n",
    "stemmer['nizmatu/desire']['norm'].append('nizmassu')\n",
    "stemmer['nawāru/be(come) bright']['norm'].append('nuwwurim')\n",
    "stemmer['palāhu/be(come) afraid']['norm'].append('pālih')\n",
    "stemmer['pû/mouth']['norm'].append('pī')\n",
    "stemmer['pû/mouth']['norm'].append('pīšu')\n",
    "stemmer['purussû/(legal) decision']['norm'].append('purussē')\n",
    "stemmer['pušqu/narrow']['norm'].append('pušqī')\n",
    "stemmer['qerbu/centre']['norm'].append('qerbum')\n",
    "stemmer['rabû/big']['norm'].append('rabium')\n",
    "stemmer['rēʾû/shepherd']['norm'].append('reʾûm')\n",
    "stemmer['rebītu/square']['norm'].append('rebītim;')\n",
    "stemmer['rēʾû/shepherd']['norm'].append('rēʾûssina')\n",
    "stemmer['rīdu/pursuit'] = {'norm': ['rīdam']}\n",
    "stemmer['ruʾu/friend'] = {'norm': ['rūšu']}\n",
    "stemmer['sapāru/(deity&apos;s) net']['norm'].append('sapar')\n",
    "stemmer['sin/sin']['norm'].append('sîn')\n",
    "stemmer['sîn-muballiṭ/sîn-muballiṭ'] = {'norm': ['sîn-muballiṭ']} # NEW\n",
    "stemmer['sumu-la-el/sumu-la-el'] = {'norm': ['sumu-la-el']} # NEW\n",
    "stemmer['ṣarpānītum/ṣarpānītum'] = {'norm': ['ṣarpānītum']} # NEW\n",
    "stemmer['šiāmu/fix']['norm'].append('šāʾim')\n",
    "stemmer['šamû/heaven']['norm'].append('šamāʾī')\n",
    "stemmer['šaṭāpu/sustain life'] = {'norm': ['šāṭip']}\n",
    "stemmer['šaṭāru/write']['norm'].append('šaṭram')\n",
    "stemmer['šubtu/dwelling']['norm'].append('šubātišin')\n",
    "stemmer['ahāzu/take']['norm'].append('šūhuzim')\n",
    "stemmer['šumu/name']['norm'].append('šumsu')\n",
    "stemmer['wapû/be(come) visible']['norm'].append('šūpîm')\n",
    "stemmer['šūquru/very valuable']['norm'].append('šūqurātim')\n",
    "stemmer['rašādu/be firm']['norm'].append('šuršudā')\n",
    "stemmer['tāhāzu/battle']['norm'].append('tāhazim')\n",
    "stemmer['tašīmtum/discernment'] = {'norm': ['tašīmtim']} # NEW\n",
    "stemmer['teleʾû/able one']['norm'].append('telītim')\n",
    "stemmer['têrtu/message']['norm'].append('tērētim')\n",
    "stemmer['tuttul/tuttul'] = {'norm': ['tuttul']} # NEW\n",
    "stemmer['tutu/tutu'] = {'norm': ['tutu']} # NEW\n",
    "stemmer['ṭiābu/be(come) good']['norm'].append('ṭubbim')\n",
    "stemmer['ṭuhdu/abundance']['norm'].append('ṭuhdim')\n",
    "stemmer['kânu/be(come) permanent']['norm'].append('ukinnušum')\n",
    "stemmer['ūmu/day']['norm'].append('ūmīšu')\n",
    "stemmer['nakāru/change']['norm'].append('unakkir')\n",
    "stemmer['petû/open']['norm'].append('upetti')\n",
    "stemmer['ur/ur']['norm'].append('urim')\n",
    "stemmer['ūsu/straight path']['norm'].append('ussam')\n",
    "stemmer['uṣurtu/drawing']['norm'].append('uṣurātiya')\n",
    "stemmer['šuklulu/complete']['norm'].append('ušaklilušu')\n",
    "stemmer['nasāku/throw (down)']['norm'].append('ušassik')\n",
    "stemmer['waṣû/go out']['norm'].append('ušēṣišināšim')\n",
    "stemmer['wapû/be(come) visible']['norm'].append('ušūpiʾu')\n",
    "stemmer['rabû/be(come) big']['norm'].append('ušarbiʾušu')\n",
    "stemmer['watāru/be(come) outsize']['norm'].append('ušāterušu')\n",
    "stemmer['ešēru/be/go well']['norm'].append('uštēšer')\n",
    "stemmer['ṭiābu/be(come) good']['norm'].append('uṭīb')\n",
    "stemmer['wâru/go (up to)']['norm'].append('uwaʾʾeranni')\n",
    "stemmer['urqītu/greenery']['norm'].append('warqim')\n",
    "stemmer['waṣû/go out']['norm'].append('waṣêmma')\n",
    "stemmer['wašru/humble one']['norm'].append('wašrum')\n",
    "stemmer['wašṭu/stiff']['norm'].append('wašṭūtim')\n",
    "stemmer['zāʾeru/enemy']['norm'].append('zāʾirī')\n",
    "stemmer['zabala/zabala'] = {'norm': ['zabala']} # NEW\n",
    "\n",
    "# words to remove:\n",
    "stemmer.pop('adīni/hitherto', None)\n",
    "stemmer.pop('mušarbû/who makes surpassing', None)\n"
   ]
  },
  {
   "cell_type": "code",
   "execution_count": 382,
   "metadata": {},
   "outputs": [
    {
     "name": "stdout",
     "output_type": "stream",
     "text": [
      "163 / 8860 = %1.84\n",
      "ušatlimunim\n",
      "išīmam\n",
      "ubelli\n",
      "aburrī\n",
      "ušarbiṣ\n",
      "mugallitam\n",
      "ušaršīšināti\n",
      "ibbûninnima\n",
      "utliya\n",
      "ihhišā\n"
     ]
    }
   ],
   "source": [
    "none_count = 0\n",
    "none_words = []\n",
    "for word in normed_words.split():\n",
    "    if get_stem_from_norm(word) == None:\n",
    "        none_words.append(word)\n",
    "        none_count += 1\n",
    "print(f\"{none_count} / {len(normed_words)} = %{round(none_count/len(normed_words)*100, 2)}\")\n",
    "for word in none_words[:10]:\n",
    "    print(word)"
   ]
  },
  {
   "cell_type": "code",
   "execution_count": 383,
   "metadata": {},
   "outputs": [
    {
     "data": {
      "text/plain": [
       "[('ušatlimunim', 1),\n",
       " ('išīmam', 1),\n",
       " ('ubelli', 1),\n",
       " ('aburrī', 1),\n",
       " ('ušarbiṣ', 1),\n",
       " ('mugallitam', 1),\n",
       " ('ušaršīšināti', 1),\n",
       " ('ibbûninnima', 1),\n",
       " ('utliya', 1),\n",
       " ('ihhišā', 1),\n",
       " ('attabbalšināti', 1),\n",
       " ('nēmeqiya', 1),\n",
       " ('uštapziršināti', 1),\n",
       " ('ekūtam', 1),\n",
       " ('almattam', 1),\n",
       " ('kīnā', 1),\n",
       " ('lēʾûtī', 1),\n",
       " ('išû', 1),\n",
       " ('mīšarī', 1),\n",
       " ('uṣurātūa', 1),\n",
       " ('mušassikam', 1),\n",
       " ('iršia', 1),\n",
       " ('lizzakir', 1),\n",
       " ('lillikma', 1),\n",
       " ('lištassīma', 1),\n",
       " ('lišmēma', 1),\n",
       " ('likallimšu', 1),\n",
       " ('linappišma', 1),\n",
       " ('wālidim', 1),\n",
       " ('uštaktitma', 1),\n",
       " ('irnitti', 1),\n",
       " ('liqbīma', 1),\n",
       " ('likrubam', 1),\n",
       " ('ēribūt', 1),\n",
       " ('igirrê', 1),\n",
       " ('lidammiqu', 1),\n",
       " ('warkiāt', 1),\n",
       " ('matima', 1),\n",
       " ('tašīmtam', 1),\n",
       " ('išūma', 1),\n",
       " ('ileʾi', 1),\n",
       " ('liqūlma', 1),\n",
       " ('narûm', 1),\n",
       " ('likallimšuma', 1),\n",
       " ('lištēšer', 1),\n",
       " ('dīnšina', 1),\n",
       " ('lidīn', 1),\n",
       " ('purussāšina', 1),\n",
       " ('išrukušum', 1),\n",
       " ('epšētūa', 1)]"
      ]
     },
     "execution_count": 383,
     "metadata": {},
     "output_type": "execute_result"
    }
   ],
   "source": [
    "from collections import Counter\n",
    "Counter(none_words).most_common(50)"
   ]
  },
  {
   "cell_type": "code",
   "execution_count": 388,
   "metadata": {},
   "outputs": [],
   "source": [
    "stemmed_lh = ''\n",
    "for word in normed_words.split():\n",
    "    stem = get_stem_from_norm(word)\n",
    "    if stem != None:\n",
    "        stemmed_lh += stem.split('/')[0] + ' '\n",
    "    else:\n",
    "        stemmed_lh += word.lower() + ' '\n"
   ]
  },
  {
   "cell_type": "code",
   "execution_count": 389,
   "metadata": {},
   "outputs": [],
   "source": [
    "with open('stemmed_lh.txt', 'w') as f:\n",
    "    f.write(stemmed_lh.rstrip())"
   ]
  },
  {
   "cell_type": "code",
   "execution_count": null,
   "metadata": {},
   "outputs": [],
   "source": []
  },
  {
   "cell_type": "code",
   "execution_count": 19,
   "metadata": {},
   "outputs": [],
   "source": [
    "with open('oracc_ribo.vrt') as f:\n",
    "    lines = [line.split('\\t') for line in f.read().split('\\n') if len(line) > 0 and line[0] != '<']"
   ]
  },
  {
   "cell_type": "code",
   "execution_count": 21,
   "metadata": {},
   "outputs": [
    {
     "name": "stdout",
     "output_type": "stream",
     "text": [
      "['a-na-ku', 'anāku', 'anāku', 'I', 'IP', 'I', 'IP', 'http://oracc.org/ribo/babylon8/Q006655.4', 'akk', 'a-na-ku', 'ana_ku', 'ana_ku', '12']\n",
      "anāku\n"
     ]
    }
   ],
   "source": [
    "print(lines[-1])\n",
    "stemmed_ribo = ''\n",
    "for line in lines:\n",
    "    if len(line) > 0 and line[2] != '_':\n",
    "        stemmed_ribo += line[2] + ' '\n",
    "print(stemmed_ribo.split()[-1])\n",
    "with open('stemmed_ribo.txt', 'w') as f:\n",
    "    f.write(stemmed_ribo.rstrip())"
   ]
  },
  {
   "cell_type": "code",
   "execution_count": 17,
   "metadata": {},
   "outputs": [
    {
     "data": {
      "text/plain": [
       "['a-na-ku',\n",
       " 'anāku',\n",
       " 'anāku',\n",
       " 'I',\n",
       " 'IP',\n",
       " 'I',\n",
       " 'IP',\n",
       " 'http://oracc.org/ribo/babylon8/Q006655.4',\n",
       " 'akk',\n",
       " 'a-na-ku',\n",
       " 'ana_ku',\n",
       " 'ana_ku',\n",
       " '12']"
      ]
     },
     "execution_count": 17,
     "metadata": {},
     "output_type": "execute_result"
    }
   ],
   "source": [
    "lines[-1]"
   ]
  },
  {
   "cell_type": "code",
   "execution_count": null,
   "metadata": {},
   "outputs": [],
   "source": []
  }
 ],
 "metadata": {
  "kernelspec": {
   "display_name": "Python 3",
   "language": "python",
   "name": "python3"
  },
  "language_info": {
   "codemirror_mode": {
    "name": "ipython",
    "version": 3
   },
   "file_extension": ".py",
   "mimetype": "text/x-python",
   "name": "python",
   "nbconvert_exporter": "python",
   "pygments_lexer": "ipython3",
   "version": "3.8.5"
  }
 },
 "nbformat": 4,
 "nbformat_minor": 4
}
